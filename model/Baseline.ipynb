{
 "cells": [
  {
   "cell_type": "code",
   "execution_count": 1,
   "metadata": {},
   "outputs": [],
   "source": [
    "import numpy as np\n",
    "from sklearn.linear_model import LogisticRegression\n",
    "from sklearn import linear_model\n",
    "import random"
   ]
  },
  {
   "cell_type": "code",
   "execution_count": 2,
   "metadata": {},
   "outputs": [],
   "source": [
    "# ls"
   ]
  },
  {
   "cell_type": "code",
   "execution_count": 3,
   "metadata": {},
   "outputs": [
    {
     "name": "stdout",
     "output_type": "stream",
     "text": [
      "SOURCE_SUBREDDIT\tTARGET_SUBREDDIT\tPOST_ID\tTIMESTAMP\tLINK_SENTIMENT\tPROPERTIES\n",
      "\n"
     ]
    }
   ],
   "source": [
    "input_file = open('../data/reddit-hyperlinks-title.tsv')\n",
    "\n",
    "print(input_file.readline())\n",
    "\n",
    "X = []\n",
    "y = []\n",
    "\n",
    "for line in input_file:\n",
    "    line = line.rstrip().split()\n",
    "    w1 = line[0]\n",
    "    w2 = line[1]\n",
    "    properties = line[6]\n",
    "    label = line[5]\n",
    "#     print(label)\n",
    "    x = []\n",
    "#     print(properties.split(','))\n",
    "    for t in properties.split(','):\n",
    "        x.append(float(t))\n",
    "    assert(len(x) == 86)\n",
    "    X.append(x)\n",
    "    if label == \"1\": \n",
    "        y.append(1)\n",
    "    else: y.append(0)\n",
    "#     print(w1, w2, properties, label)"
   ]
  },
  {
   "cell_type": "code",
   "execution_count": 4,
   "metadata": {
    "scrolled": true
   },
   "outputs": [
    {
     "name": "stdout",
     "output_type": "stream",
     "text": [
      "510787\n",
      "571927\n"
     ]
    }
   ],
   "source": [
    "print(sum(y))\n",
    "print(len(y))"
   ]
  },
  {
   "cell_type": "code",
   "execution_count": 5,
   "metadata": {},
   "outputs": [
    {
     "name": "stdout",
     "output_type": "stream",
     "text": [
      "571927 571927\n"
     ]
    }
   ],
   "source": [
    "# print(X[:10])\n",
    "# print(y[:10])\n",
    "Xy = list(zip(X,y))\n",
    "random.shuffle(Xy)\n",
    "X = [d[0] for d in Xy]\n",
    "y = [d[1] for d in Xy]\n",
    "\n",
    "print(len(X), len(y))\n",
    "length = len(X)\n",
    "training = X[:int(0.9*length)]\n",
    "training_labels = y[:int(0.9*length)]\n",
    "validation = X[int(0.9*length):int(0.95*length)]\n",
    "validation_labels = y[int(0.9*length):int(0.95*length)]\n",
    "testing = X[int(0.95*length):]\n",
    "testing_labels = y[int(0.95*length):]"
   ]
  },
  {
   "cell_type": "code",
   "execution_count": null,
   "metadata": {},
   "outputs": [],
   "source": []
  },
  {
   "cell_type": "code",
   "execution_count": 22,
   "metadata": {},
   "outputs": [
    {
     "name": "stdout",
     "output_type": "stream",
     "text": [
      "0.8801089494768172\n"
     ]
    }
   ],
   "source": [
    "model = linear_model.LogisticRegression(class_weight='balanced', solver='liblinear')\n",
    "model.fit(training, training_labels)\n",
    "pred = model.predict(training)\n",
    "print(sum(training_labels==pred)/len(training_labels))"
   ]
  },
  {
   "cell_type": "code",
   "execution_count": 23,
   "metadata": {
    "scrolled": true
   },
   "outputs": [
    {
     "name": "stdout",
     "output_type": "stream",
     "text": [
      "0.8775353196251224\n"
     ]
    }
   ],
   "source": [
    "pred = model.predict(validation)\n",
    "print(sum(validation_labels==pred)/len(validation_labels))"
   ]
  },
  {
   "cell_type": "code",
   "execution_count": 24,
   "metadata": {},
   "outputs": [
    {
     "name": "stdout",
     "output_type": "stream",
     "text": [
      "0.8766653844808896\n"
     ]
    }
   ],
   "source": [
    "pred = model.predict(testing)\n",
    "print(sum(testing_labels==pred)/len(testing_labels))"
   ]
  },
  {
   "cell_type": "code",
   "execution_count": 25,
   "metadata": {},
   "outputs": [],
   "source": [
    "correct = pred == testing_labels\n",
    "TP_ = np.logical_and(pred, testing_labels)\n",
    "FP_ = np.logical_and(pred, np.logical_not(testing_labels))\n",
    "TN_ = np.logical_and(np.logical_not(pred), np.logical_not(testing_labels))\n",
    "FN_ = np.logical_and(np.logical_not(pred), testing_labels)"
   ]
  },
  {
   "cell_type": "code",
   "execution_count": 26,
   "metadata": {},
   "outputs": [
    {
     "name": "stdout",
     "output_type": "stream",
     "text": [
      "Accuracy: 0.8766653844808896\n",
      "BER: 0.10978882807947876\n"
     ]
    }
   ],
   "source": [
    "TP = sum(TP_)\n",
    "FP = sum(FP_)\n",
    "TN = sum(TN_)\n",
    "FN = sum(FN_)\n",
    "\n",
    "# accuracy\n",
    "print(\"Accuracy: \" + str(sum(correct) / len(correct)))\n",
    "\n",
    "# BER\n",
    "print(\"BER: \" + str(1 - 0.5 * (TP / (TP + FN) + TN / (TN + FP))))"
   ]
  },
  {
   "cell_type": "code",
   "execution_count": null,
   "metadata": {},
   "outputs": [],
   "source": []
  }
 ],
 "metadata": {
  "kernelspec": {
   "display_name": "python3.7.4-venv",
   "language": "python",
   "name": "python3.7.4-venv"
  },
  "language_info": {
   "codemirror_mode": {
    "name": "ipython",
    "version": 3
   },
   "file_extension": ".py",
   "mimetype": "text/x-python",
   "name": "python",
   "nbconvert_exporter": "python",
   "pygments_lexer": "ipython3",
   "version": "3.7.4"
  }
 },
 "nbformat": 4,
 "nbformat_minor": 2
}
