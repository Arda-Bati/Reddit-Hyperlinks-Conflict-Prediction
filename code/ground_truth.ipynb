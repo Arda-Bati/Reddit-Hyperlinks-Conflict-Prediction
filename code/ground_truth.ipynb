{
 "cells": [
  {
   "cell_type": "code",
   "execution_count": 1,
   "metadata": {},
   "outputs": [],
   "source": [
    "import csv\n",
    "import copy\n",
    "import random\n",
    "from collections import defaultdict"
   ]
  },
  {
   "cell_type": "code",
   "execution_count": 2,
   "metadata": {},
   "outputs": [],
   "source": [
    "file1_path = \"../scraped_data/related_subreddits_clean.tsv\"\n",
    "file2_path = \"../scraped_data/related_subreddits_direct_to_file.tsv\""
   ]
  },
  {
   "cell_type": "code",
   "execution_count": 32,
   "metadata": {},
   "outputs": [],
   "source": [
    "def process_file(file_path):\n",
    "    \"\"\" Gets the subreddit, related subreddit pairs from file\"\"\"\n",
    "    f_content = []\n",
    "    with open(file_path, encoding ='utf-8') as tsvfile:\n",
    "        reader = csv.reader(tsvfile, delimiter='\\t')\n",
    "        for row in reader:\n",
    "            if len(row) >= 2:\n",
    "                row[1] = row[1].split(',')[:-1]\n",
    "                row[1] = [elem.split('/r/')[-1] for elem in row[1]]\n",
    "            f_content.append(row)\n",
    "    return f_content"
   ]
  },
  {
   "cell_type": "code",
   "execution_count": 35,
   "metadata": {},
   "outputs": [],
   "source": [
    "f1_content = process_file(file1_path)\n",
    "f1_content = f1_content[2:]\n",
    "f2_content = process_file(file2_path)\n",
    "all_content = f1_content + f2_content"
   ]
  },
  {
   "cell_type": "code",
   "execution_count": 36,
   "metadata": {},
   "outputs": [
    {
     "name": "stdout",
     "output_type": "stream",
     "text": [
      "45404\n",
      "13534\n"
     ]
    }
   ],
   "source": [
    "all_count = defaultdict(int)\n",
    "for node in all_content:\n",
    "    all_count[node[0]] += len(node[1])\n",
    "\n",
    "all_content_edited = []\n",
    "for node in all_content:\n",
    "    if all_count[node[0]] >= 2:\n",
    "        all_content_edited.append(node)\n",
    "\n",
    "print(len(all_content))\n",
    "print(len(all_content_edited))\n",
    "all_content = all_content_edited"
   ]
  },
  {
   "cell_type": "code",
   "execution_count": 37,
   "metadata": {},
   "outputs": [
    {
     "name": "stdout",
     "output_type": "stream",
     "text": [
      "13534\n",
      "13491\n"
     ]
    }
   ],
   "source": [
    "random.shuffle(all_content)\n",
    "subr_related_to = defaultdict(set)\n",
    "for subreddit, related_reddits in all_content:\n",
    "    subr_related_to[subreddit] = \\\n",
    "    subr_related_to[subreddit].union(set(related_reddits))\n",
    "print(len(all_content))\n",
    "print(len(subr_related_to))"
   ]
  },
  {
   "cell_type": "code",
   "execution_count": 38,
   "metadata": {},
   "outputs": [
    {
     "data": {
      "text/plain": [
       "13491"
      ]
     },
     "execution_count": 38,
     "metadata": {},
     "output_type": "execute_result"
    }
   ],
   "source": [
    "copy_subr_related_to = copy.deepcopy(subr_related_to)\n",
    "len(copy_subr_related_to)"
   ]
  },
  {
   "cell_type": "code",
   "execution_count": 39,
   "metadata": {},
   "outputs": [],
   "source": [
    "clusters = defaultdict(set)\n",
    "count = -1\n",
    "node_count = 0\n",
    "\n",
    "def add_to_cluster(count, node):\n",
    "    if node in copy_subr_related_to:\n",
    "        clusters[count].add(node)\n",
    "        global node_count\n",
    "        node_count += 1\n",
    "        \n",
    "def pop_from_dict(node):\n",
    "    if node in copy_subr_related_to:\n",
    "        copy_subr_related_to.pop(node)\n",
    "\n",
    "for subreddit in subr_related_to:\n",
    "    count += 1\n",
    "    if len(copy_subr_related_to) == 0:\n",
    "        print('Breaking...')\n",
    "        break\n",
    "    if subreddit in copy_subr_related_to:\n",
    "        add_to_cluster(count, subreddit)\n",
    "        for related in copy_subr_related_to[subreddit]:\n",
    "            add_to_cluster(count, related)\n",
    "            for rel_to_related in copy_subr_related_to[related]:\n",
    "                add_to_cluster(count, rel_to_related)\n",
    "                pop_from_dict(rel_to_related)\n",
    "            pop_from_dict(related)\n",
    "        pop_from_dict(subreddit)"
   ]
  },
  {
   "cell_type": "code",
   "execution_count": 40,
   "metadata": {
    "scrolled": true
   },
   "outputs": [
    {
     "name": "stdout",
     "output_type": "stream",
     "text": [
      "13942\n",
      "9518\n"
     ]
    }
   ],
   "source": [
    "print(node_count)\n",
    "print(len(clusters))"
   ]
  },
  {
   "cell_type": "code",
   "execution_count": 9,
   "metadata": {
    "scrolled": false
   },
   "outputs": [],
   "source": [
    "# clusters"
   ]
  }
 ],
 "metadata": {
  "kernelspec": {
   "display_name": "Python 3",
   "language": "python",
   "name": "python3"
  },
  "language_info": {
   "codemirror_mode": {
    "name": "ipython",
    "version": 3
   },
   "file_extension": ".py",
   "mimetype": "text/x-python",
   "name": "python",
   "nbconvert_exporter": "python",
   "pygments_lexer": "ipython3",
   "version": "3.7.5"
  }
 },
 "nbformat": 4,
 "nbformat_minor": 2
}
