{
 "cells": [
  {
   "cell_type": "code",
   "execution_count": null,
   "metadata": {},
   "outputs": [],
   "source": [
    "# https://cdlib.readthedocs.io/en/latest/reference/evaluation.html\n",
    "# https://cdlib.readthedocs.io/en/latest/reference/cd_algorithms/node_clustering.html"
   ]
  },
  {
   "cell_type": "code",
   "execution_count": 31,
   "metadata": {},
   "outputs": [],
   "source": [
    "import cdlib\n",
    "import networkx as nx\n",
    "from cdlib import algorithms\n",
    "from cdlib import evaluation\n",
    "from cdlib import NodeClustering\n",
    "from collections import defaultdict\n",
    "from networkx.algorithms import community"
   ]
  },
  {
   "cell_type": "code",
   "execution_count": 32,
   "metadata": {},
   "outputs": [],
   "source": [
    "edge_counts = defaultdict(int)\n",
    "file =  open('../reddit_v2.txt') \n",
    "nodes_name = set()\n",
    "for line in file:\n",
    "    node_list = line.rstrip().split()\n",
    "    edge_counts[node_list[0]] += 1\n",
    "file.close()\n",
    "\n",
    "edges_cutoff = 30\n",
    "edges_subset = []\n",
    "edges_signs = []\n",
    "nodes_name = set()\n",
    "file =  open('../reddit_v2.txt') \n",
    "for line in file:\n",
    "    node_list = line.rstrip().split()\n",
    "    if edge_counts[node_list[0]] >= edges_cutoff and edge_counts[node_list[1]] >= edges_cutoff:\n",
    "        edges_subset.append((node_list[0], node_list[1]))\n",
    "        edges_signs.append(node_list[2])\n",
    "        for node in node_list[:1]:\n",
    "            nodes_name.add(node)\n",
    "file.close()\n",
    "\n",
    "new_edge_counts = defaultdict(int)\n",
    "for node in nodes_name:\n",
    "    new_edge_counts[node] += edge_counts[node]\n",
    "\n",
    "G = nx.Graph()\n",
    "G.add_nodes_from(nodes_name)\n",
    "G.add_edges_from(edges_subset)"
   ]
  },
  {
   "cell_type": "code",
   "execution_count": null,
   "metadata": {},
   "outputs": [],
   "source": []
  },
  {
   "cell_type": "code",
   "execution_count": 35,
   "metadata": {},
   "outputs": [
    {
     "name": "stdout",
     "output_type": "stream",
     "text": [
      "Number of communities: 8\n"
     ]
    }
   ],
   "source": [
    "communities_greedy_mod = community.greedy_modularity_communities(G)\n",
    "print(\"Number of communities:\", len(communities_greedy_mod))"
   ]
  },
  {
   "cell_type": "code",
   "execution_count": 36,
   "metadata": {},
   "outputs": [
    {
     "name": "stdout",
     "output_type": "stream",
     "text": [
      "Number of communities: 6\n"
     ]
    }
   ],
   "source": [
    "label_prop_gen = community.label_propagation_communities(G)\n",
    "communities_label_prop = [cluster for cluster in label_prop_gen]\n",
    "print(\"Number of communities:\", len(communities_label_prop))"
   ]
  },
  {
   "cell_type": "code",
   "execution_count": 39,
   "metadata": {},
   "outputs": [],
   "source": [
    "nc_greedy = NodeClustering(communities_greedy_mod, G, \"greedy\")\n",
    "nc_label_prop = NodeClustering(communities_label_prop, G, \"label_prop\")"
   ]
  },
  {
   "cell_type": "code",
   "execution_count": 40,
   "metadata": {},
   "outputs": [
    {
     "data": {
      "text/plain": [
       "FitnessResult(min=1.7142857142857142, max=46.41367521367521, score=18.758168926589974, std=18.76129447721789)"
      ]
     },
     "execution_count": 40,
     "metadata": {},
     "output_type": "execute_result"
    }
   ],
   "source": [
    "evaluation.average_internal_degree(G, node_cluster)"
   ]
  },
  {
   "cell_type": "code",
   "execution_count": 41,
   "metadata": {},
   "outputs": [
    {
     "data": {
      "text/plain": [
       "FitnessResult(min=0.2727272727272727, max=0.9636363636363636, score=0.6366137628915328, std=0.262427118706233)"
      ]
     },
     "execution_count": 41,
     "metadata": {},
     "output_type": "execute_result"
    }
   ],
   "source": [
    "evaluation.conductance(G, node_cluster)"
   ]
  },
  {
   "cell_type": "code",
   "execution_count": 42,
   "metadata": {},
   "outputs": [
    {
     "data": {
      "text/plain": [
       "MatchingResult(score=0.009446249707612943, std=None)"
      ]
     },
     "execution_count": 42,
     "metadata": {},
     "output_type": "execute_result"
    }
   ],
   "source": [
    "evaluation.omega(nc_greedy, nc_label_prop)"
   ]
  },
  {
   "cell_type": "code",
   "execution_count": 43,
   "metadata": {
    "scrolled": true
   },
   "outputs": [
    {
     "name": "stderr",
     "output_type": "stream",
     "text": [
      "/Users/cankat/anaconda3/lib/python3.7/site-packages/sklearn/metrics/cluster/supervised.py:746: FutureWarning: The behavior of AMI will change in version 0.22. To match the behavior of 'v_measure_score', AMI will use average_method='arithmetic' by default.\n",
      "  FutureWarning)\n"
     ]
    },
    {
     "data": {
      "text/plain": [
       "MatchingResult(score=0.025282936074982304, std=None)"
      ]
     },
     "execution_count": 43,
     "metadata": {},
     "output_type": "execute_result"
    }
   ],
   "source": [
    "evaluation.adjusted_mutual_information(nc_greedy, nc_label_prop)"
   ]
  },
  {
   "cell_type": "code",
   "execution_count": 46,
   "metadata": {},
   "outputs": [],
   "source": [
    "map1 = map(lambda x: x, range(3))\n",
    "map2 = map(lambda x: x, range(5))\n",
    "list1 = [map1, map2]"
   ]
  },
  {
   "cell_type": "code",
   "execution_count": 47,
   "metadata": {},
   "outputs": [
    {
     "name": "stdout",
     "output_type": "stream",
     "text": [
      "[<map object at 0x1289e8e48>, <map object at 0x1289e8a58>]\n"
     ]
    }
   ],
   "source": [
    "print(list1)"
   ]
  },
  {
   "cell_type": "code",
   "execution_count": 50,
   "metadata": {},
   "outputs": [
    {
     "data": {
      "text/plain": [
       "<map at 0x1289e8a58>"
      ]
     },
     "execution_count": 50,
     "metadata": {},
     "output_type": "execute_result"
    }
   ],
   "source": [
    "__repr__\n",
    "map at address"
   ]
  },
  {
   "cell_type": "code",
   "execution_count": null,
   "metadata": {},
   "outputs": [],
   "source": [
    "__str__\n",
    "list(map1)"
   ]
  }
 ],
 "metadata": {
  "kernelspec": {
   "display_name": "Python 3",
   "language": "python",
   "name": "python3"
  },
  "language_info": {
   "codemirror_mode": {
    "name": "ipython",
    "version": 3
   },
   "file_extension": ".py",
   "mimetype": "text/x-python",
   "name": "python",
   "nbconvert_exporter": "python",
   "pygments_lexer": "ipython3",
   "version": "3.7.5"
  }
 },
 "nbformat": 4,
 "nbformat_minor": 2
}
