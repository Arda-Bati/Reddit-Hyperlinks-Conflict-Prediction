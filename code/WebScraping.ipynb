{
 "cells": [
  {
   "cell_type": "code",
   "execution_count": 49,
   "metadata": {},
   "outputs": [],
   "source": [
    "from selenium import webdriver\n",
    "from bs4 import BeautifulSoup\n",
    "import pandas as pd\n",
    "from collections import defaultdict\n",
    "import csv"
   ]
  },
  {
   "cell_type": "code",
   "execution_count": 39,
   "metadata": {},
   "outputs": [],
   "source": [
    "file = open('reddit.txt')"
   ]
  },
  {
   "cell_type": "code",
   "execution_count": 40,
   "metadata": {},
   "outputs": [],
   "source": [
    "subreddits_set = set()\n",
    "for row in file:\n",
    "    li = row.rstrip().split()\n",
    "    for l in li:\n",
    "        subreddits_set.add(l)"
   ]
  },
  {
   "cell_type": "code",
   "execution_count": 112,
   "metadata": {},
   "outputs": [],
   "source": [
    "subreddits_list = list(subreddits_set)\n",
    "subreddits_list = subreddits_list[8324:]"
   ]
  },
  {
   "cell_type": "code",
   "execution_count": 113,
   "metadata": {},
   "outputs": [],
   "source": [
    "driver = webdriver.Chrome(\"/Users/shivamlakhotia/Downloads/chromedriver\")"
   ]
  },
  {
   "cell_type": "code",
   "execution_count": 114,
   "metadata": {},
   "outputs": [],
   "source": [
    "baseUrl = \"https://snoopsnoo.com/r/\""
   ]
  },
  {
   "cell_type": "code",
   "execution_count": 115,
   "metadata": {},
   "outputs": [],
   "source": [
    "related_subreddits_dict = defaultdict()\n",
    "f = open('related_subreddits_direct_to_file.tsv', 'a+')"
   ]
  },
  {
   "cell_type": "code",
   "execution_count": null,
   "metadata": {},
   "outputs": [],
   "source": [
    "for sr in subreddits_list:\n",
    "    driver.get(baseUrl+sr)\n",
    "    content = driver.page_source\n",
    "    soup = BeautifulSoup(content)\n",
    "    related_subreddits = []\n",
    "    \n",
    "    for a in soup.findAll('div', attrs={'class':'panel panel-default related-subreddits'}):\n",
    "        for b in a.findAll('li'):\n",
    "            related_subreddits.append(str((b.find('a').text)).rstrip().lstrip())\n",
    "    related_subreddits_dict[sr] = related_subreddits\n",
    "    \n",
    "    f.write(\"%s\\t\"%sr)\n",
    "    for r in related_subreddits:\n",
    "        f.write(\"%s, \"%r)\n",
    "    f.write(\"\\n\")\n",
    "    "
   ]
  },
  {
   "cell_type": "code",
   "execution_count": 116,
   "metadata": {},
   "outputs": [
    {
     "name": "stdout",
     "output_type": "stream",
     "text": [
      "0 45751\n"
     ]
    }
   ],
   "source": [
    "print(len(related_subreddits_dict), len(subreddits_list))"
   ]
  },
  {
   "cell_type": "code",
   "execution_count": 104,
   "metadata": {},
   "outputs": [],
   "source": [
    "with open('related_subreddits.tsv', 'a') as f:\n",
    "    f.write(\"subreddit, related_subreddit\")\n",
    "    for key in related_subreddits_dict.keys():\n",
    "        f.write(\"%s\\t\"%key)\n",
    "        for r in related_subreddits_dict[key]:\n",
    "            f.write(\"%s, \"%r)\n",
    "        f.write(\"\\n\")\n",
    "#     print(related_subreddits_dict)"
   ]
  },
  {
   "cell_type": "code",
   "execution_count": 61,
   "metadata": {},
   "outputs": [
    {
     "name": "stdout",
     "output_type": "stream",
     "text": [
      "redditares\n",
      "[]\n"
     ]
    }
   ],
   "source": [
    "index = 1684\n",
    "print(subreddits_list[index])\n",
    "print(related_subreddits_dict[subreddits_list[index]])"
   ]
  },
  {
   "cell_type": "code",
   "execution_count": 8,
   "metadata": {},
   "outputs": [],
   "source": []
  },
  {
   "cell_type": "code",
   "execution_count": 9,
   "metadata": {},
   "outputs": [],
   "source": []
  },
  {
   "cell_type": "code",
   "execution_count": 10,
   "metadata": {},
   "outputs": [
    {
     "name": "stdout",
     "output_type": "stream",
     "text": [
      "['/r/POLITIC', '/r/satire', '/r/worldpoliticalhumour', '/r/internationalpolitics', '/r/PropagandaPosters', '/r/socialism', '/r/humor', '/r/Anarchism']\n"
     ]
    }
   ],
   "source": [
    "print(related_subreddits)"
   ]
  },
  {
   "cell_type": "code",
   "execution_count": null,
   "metadata": {},
   "outputs": [],
   "source": []
  }
 ],
 "metadata": {
  "kernelspec": {
   "display_name": "python3.7.4-venv",
   "language": "python",
   "name": "python3.7.4-venv"
  },
  "language_info": {
   "codemirror_mode": {
    "name": "ipython",
    "version": 3
   },
   "file_extension": ".py",
   "mimetype": "text/x-python",
   "name": "python",
   "nbconvert_exporter": "python",
   "pygments_lexer": "ipython3",
   "version": "3.7.4"
  }
 },
 "nbformat": 4,
 "nbformat_minor": 2
}
