{
 "cells": [
  {
   "cell_type": "code",
   "execution_count": 92,
   "metadata": {},
   "outputs": [],
   "source": [
    "import csv\n",
    "import networkx as nx\n",
    "from networkx.algorithms import community\n",
    "import copy\n",
    "from collections import defaultdict\n",
    "import pickle"
   ]
  },
  {
   "cell_type": "markdown",
   "metadata": {},
   "source": [
    "# Data Processing"
   ]
  },
  {
   "cell_type": "code",
   "execution_count": 93,
   "metadata": {},
   "outputs": [],
   "source": [
    "file1_path = \"../scraped_data/related_subreddits_clean.tsv\"\n",
    "file2_path = \"../scraped_data/related_subreddits_direct_to_file.tsv\""
   ]
  },
  {
   "cell_type": "code",
   "execution_count": 94,
   "metadata": {},
   "outputs": [],
   "source": [
    "def process_file(file_path):\n",
    "    \"\"\" Gets the subreddit, related subreddit pairs from file\"\"\"\n",
    "    f_content = []\n",
    "    with open(file_path, encoding ='utf-8') as tsvfile:\n",
    "        reader = csv.reader(tsvfile, delimiter='\\t')\n",
    "        for row in reader:\n",
    "            if len(row) >= 2:\n",
    "                row[1] = row[1].split(',')[:-1]\n",
    "                row[1] = [elem.split('/r/')[-1] for elem in row[1]]\n",
    "            f_content.append(row)\n",
    "    return f_content"
   ]
  },
  {
   "cell_type": "code",
   "execution_count": 95,
   "metadata": {},
   "outputs": [],
   "source": [
    "f1_content = process_file(file1_path)\n",
    "f1_content = f1_content[2:]\n",
    "f2_content = process_file(file2_path)\n",
    "all_content = f1_content + f2_content"
   ]
  },
  {
   "cell_type": "code",
   "execution_count": 96,
   "metadata": {},
   "outputs": [
    {
     "name": "stdout",
     "output_type": "stream",
     "text": [
      "45404\n",
      "10008\n"
     ]
    }
   ],
   "source": [
    "min_edge_count = 4\n",
    "\n",
    "all_count = defaultdict(int)\n",
    "for node in all_content:\n",
    "    all_count[node[0]] += len(node[1])\n",
    "\n",
    "all_content_edited = []\n",
    "for node in all_content:\n",
    "    if all_count[node[0]] >= min_edge_count:\n",
    "        all_content_edited.append(node)\n",
    "\n",
    "print(len(all_content))\n",
    "print(len(all_content_edited))\n",
    "all_content = all_content_edited"
   ]
  },
  {
   "cell_type": "markdown",
   "metadata": {},
   "source": [
    "# Forming Graph From Scraped Data"
   ]
  },
  {
   "cell_type": "code",
   "execution_count": 97,
   "metadata": {},
   "outputs": [
    {
     "name": "stdout",
     "output_type": "stream",
     "text": [
      "10008\n",
      "9979\n",
      "68675\n"
     ]
    }
   ],
   "source": [
    "subr_related_to = defaultdict(set)\n",
    "for subreddit, related_reddits in all_content:\n",
    "    subr_related_to[subreddit] = \\\n",
    "    subr_related_to[subreddit].union(set(related_reddits))\n",
    "print(len(all_content))\n",
    "print(len(subr_related_to))\n",
    "\n",
    "edges = []\n",
    "for subr in subr_related_to:\n",
    "    for related in subr_related_to[subr]:\n",
    "        edges.append((subr, related))\n",
    "print(len(edges))"
   ]
  },
  {
   "cell_type": "markdown",
   "metadata": {},
   "source": [
    "# Clustering"
   ]
  },
  {
   "cell_type": "code",
   "execution_count": 98,
   "metadata": {},
   "outputs": [],
   "source": [
    "pickle.dump(edges, open(\"../cluster_data/ground_truth_edges.pkl\", \"wb\" ))\n",
    "pickle.dump(list(subr_related_to.keys()), open(\"../cluster_data/ground_truth_nodes.pkl\", \"wb\" ))\n",
    "\n",
    "scraped_g = nx.Graph()\n",
    "scraped_g.add_nodes_from(list(subr_related_to.keys()))\n",
    "scraped_g.add_edges_from(list(set(edges)))"
   ]
  },
  {
   "cell_type": "markdown",
   "metadata": {},
   "source": [
    "### Greedy Modularity Clusters"
   ]
  },
  {
   "cell_type": "code",
   "execution_count": 99,
   "metadata": {},
   "outputs": [
    {
     "name": "stdout",
     "output_type": "stream",
     "text": [
      "Number of communities: 211\n"
     ]
    }
   ],
   "source": [
    "communities_greedy_mod = community.greedy_modularity_communities(scraped_g)\n",
    "pickle.dump(communities_greedy_mod, open(\"../cluster_data/greedy_mod_clusters.pkl\", \"wb\" ))\n",
    "print(\"Number of communities:\", len(communities_greedy_mod))"
   ]
  },
  {
   "cell_type": "markdown",
   "metadata": {},
   "source": [
    "### Label Propogation Clustering"
   ]
  },
  {
   "cell_type": "code",
   "execution_count": 100,
   "metadata": {},
   "outputs": [
    {
     "name": "stdout",
     "output_type": "stream",
     "text": [
      "Number of communities: 3027\n"
     ]
    }
   ],
   "source": [
    "label_prop_gen = community.label_propagation_communities(scraped_g)\n",
    "communities_label_prop = [cluster for cluster in label_prop_gen]\n",
    "pickle.dump(communities_label_prop, open(\"../cluster_data/label_prop_clusters.pkl\", \"wb\" ))\n",
    "print(\"Number of communities:\", len(communities_label_prop))"
   ]
  },
  {
   "cell_type": "markdown",
   "metadata": {},
   "source": [
    "### Clique Percolation Clustering"
   ]
  },
  {
   "cell_type": "code",
   "execution_count": 101,
   "metadata": {},
   "outputs": [
    {
     "name": "stdout",
     "output_type": "stream",
     "text": [
      "k = 3, number of communities: 1297\n",
      "k = 4, number of communities: 671\n",
      "k = 5, number of communities: 110\n"
     ]
    }
   ],
   "source": [
    "def clique_percolation(k):\n",
    "    communities_clique_gen = community.k_clique_communities(scraped_g, k)\n",
    "    communities_clique = []\n",
    "    for cluster in communities_clique_gen:\n",
    "        communities_clique.append(cluster)\n",
    "    pickle.dump(communities_clique, \\\n",
    "                open(\"../cluster_data/clique_k{0}_clusters.pkl\".format(k), \"wb\" ))\n",
    "    print(\"k = {0}, number of communities: {1}\".format(k, len(communities_clique)))\n",
    "    return communities_clique\n",
    "\n",
    "communities_clique_k3 = clique_percolation(3)\n",
    "communities_clique_k4 = clique_percolation(4)\n",
    "communities_clique_k5 = clique_percolation(5)"
   ]
  },
  {
   "cell_type": "markdown",
   "metadata": {},
   "source": [
    "### Girvan - Newman Clustering"
   ]
  },
  {
   "cell_type": "code",
   "execution_count": null,
   "metadata": {},
   "outputs": [],
   "source": [
    "# # Taking too much time!!\n",
    "# cluster_generator = community.girvan_newman(scraped_g, most_valuable_edge = None)\n",
    "# top_level_communities  = next(cluster_generator)\n",
    "# # next_level_communities = next(communities_generator)\n",
    "# pickle.dump(top_level_communities, open(\"../cluster_data/girvan_clusters.pkl\", \"wb\" ))\n",
    "# print(\"Number of communities:\", len(top_level_communities))"
   ]
  },
  {
   "cell_type": "markdown",
   "metadata": {},
   "source": [
    "### Fluidity Based Clustering"
   ]
  },
  {
   "cell_type": "code",
   "execution_count": 137,
   "metadata": {},
   "outputs": [],
   "source": [
    "# Doesn't work because it requires a connected graph\n",
    "# hyperparameter_k = 3\n",
    "# communities_fluid = community.asyn_fluidc(scraped_g, k = hyperparameter_k)\n",
    "# pickle.dump(communities_fluid, open(\"../cluster_data/fluid_clusters.pkl\", \"wb\" ))\n",
    "# print(\"Number of communities:\", len(communities_fluid))"
   ]
  },
  {
   "cell_type": "code",
   "execution_count": 61,
   "metadata": {},
   "outputs": [],
   "source": [
    "def print_results(communities):\n",
    "    perf = community.quality.performance(scraped_g, communities)\n",
    "    coverage = community.quality.coverage(scraped_g, communities)\n",
    "    print(\"Performance of communities\", perf)\n",
    "    print(\"Coverage of communities\", coverage)\n",
    "    return None"
   ]
  },
  {
   "cell_type": "code",
   "execution_count": 136,
   "metadata": {
    "scrolled": true
   },
   "outputs": [
    {
     "data": {
      "text/plain": [
       "0.8988823769933215"
      ]
     },
     "execution_count": 136,
     "metadata": {},
     "output_type": "execute_result"
    }
   ],
   "source": [
    "# While trying ot calculate the performance, jupyter kernel is requiring more\n",
    "# and more memory, finally the system runs out of memory...\n",
    "# performance = community.quality.performance(scraped_g, communities_greedy_mod)\n",
    "coverage = community.quality.coverage(scraped_g, communities_greedy_mod)\n",
    "modularities = [nx.community.modularity(scraped_g, community) for community in communities_greedy_mod]\n",
    "print(coverage)\n",
    "print(sum(modularities) / len(modularities))"
   ]
  },
  {
   "cell_type": "code",
   "execution_count": 141,
   "metadata": {},
   "outputs": [
    {
     "data": {
      "text/plain": [
       "0.6180591522420608"
      ]
     },
     "execution_count": 141,
     "metadata": {},
     "output_type": "execute_result"
    }
   ],
   "source": [
    "coverage = community.quality.coverage(scraped_g, communities_label_prop)\n",
    "coverage"
   ]
  },
  {
   "cell_type": "code",
   "execution_count": null,
   "metadata": {},
   "outputs": [],
   "source": [
    "# Doesn't work for some reason, says clique percolation clusters\n",
    "# are not correct partitions\n",
    "coverage = community.quality.coverage(scraped_g, communities_clique_k5)\n",
    "coverage"
   ]
  },
  {
   "cell_type": "code",
   "execution_count": null,
   "metadata": {},
   "outputs": [],
   "source": []
  }
 ],
 "metadata": {
  "kernelspec": {
   "display_name": "Python 3",
   "language": "python",
   "name": "python3"
  },
  "language_info": {
   "codemirror_mode": {
    "name": "ipython",
    "version": 3
   },
   "file_extension": ".py",
   "mimetype": "text/x-python",
   "name": "python",
   "nbconvert_exporter": "python",
   "pygments_lexer": "ipython3",
   "version": "3.7.5"
  }
 },
 "nbformat": 4,
 "nbformat_minor": 2
}
